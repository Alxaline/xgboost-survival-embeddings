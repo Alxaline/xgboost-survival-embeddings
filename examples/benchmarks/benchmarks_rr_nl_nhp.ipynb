{
 "cells": [
  {
   "cell_type": "code",
   "execution_count": null,
   "metadata": {
    "tags": []
   },
   "outputs": [],
   "source": [
    "# autoreload\n",
    "%load_ext autoreload\n",
    "%autoreload 2"
   ]
  },
  {
   "cell_type": "code",
   "execution_count": 2,
   "metadata": {},
   "outputs": [],
   "source": [
    "import numpy as np\n",
    "import pandas as pd\n",
    "import matplotlib.pyplot as plt\n",
    "from tqdm import tqdm\n",
    "\n",
    "import lifelines\n",
    "import pycox\n",
    "import xgboost as xgb\n",
    "from sklearn.model_selection import train_test_split\n",
    "\n",
    "from xgbse import XGBSEKaplanNeighbors, XGBSEKaplanTree, XGBSEDebiasedBCE, XGBSEBootstrapEstimator, XGBSEStackedWeibull\n",
    "from xgbse.converters import convert_data_to_xgb_format, convert_to_structured, convert_y\n",
    "from xgbse.non_parametric import get_time_bins\n",
    "\n",
    "from benchmark import BenchmarkLifelines, BenchmarkXGBoost, BenchmarkXGBSE, BenchmarkPysurvival\n",
    "#from pysurvival.models.survival_forest import ConditionalSurvivalForestModel\n",
    "\n",
    "# setting seed\n",
    "np.random.seed(42)"
   ]
  },
  {
   "cell_type": "code",
   "execution_count": 3,
   "metadata": {},
   "outputs": [],
   "source": [
    "def split_train_test_valid(dataf, test_size=.2, valid_size=.01, random_state=1):\n",
    "    df_train, df_test = train_test_split(dataf, test_size=test_size, random_state=random_state)\n",
    "    df_train, df_valid = train_test_split(df_train, test_size=valid_size, random_state=random_state)\n",
    "    return df_train, df_valid,  df_test"
   ]
  },
  {
   "cell_type": "markdown",
   "metadata": {},
   "source": [
    "## Data"
   ]
  },
  {
   "cell_type": "code",
   "execution_count": 4,
   "metadata": {
    "tags": []
   },
   "outputs": [
    {
     "name": "stdout",
     "output_type": "stream",
     "text": [
      "Dataset 'rr_nl_nph' not created yet. Making dataset...\n",
      "Done\n"
     ]
    }
   ],
   "source": [
    "from pycox.datasets import rr_nl_nhp\n",
    "df = rr_nl_nhp.read_df()\n",
    "df.drop([\"duration_true\", \"event_true\", \"censoring_true\"], axis=1, inplace=True)\n",
    "df_train, df_valid, df_test = split_train_test_valid(df)\n",
    "\n",
    "T_train = df_train.duration\n",
    "E_train = df_train.event\n",
    "TIME_BINS = time_bins = get_time_bins(T_train, E_train, size=20)"
   ]
  },
  {
   "cell_type": "markdown",
   "metadata": {},
   "source": [
    "## Model\n",
    "\n",
    "Let us fit a model and check performance."
   ]
  },
  {
   "cell_type": "code",
   "execution_count": 5,
   "metadata": {},
   "outputs": [],
   "source": [
    "results = pd.DataFrame()"
   ]
  },
  {
   "cell_type": "markdown",
   "metadata": {},
   "source": [
    "## Lifelines"
   ]
  },
  {
   "cell_type": "code",
   "execution_count": 6,
   "metadata": {},
   "outputs": [],
   "source": [
    "bench_lifelines = BenchmarkLifelines(lifelines.CoxPHFitter(),\n",
    "        df_train,\n",
    "        df_valid,\n",
    "        df_test,\n",
    "        \"event\",\n",
    "        \"duration\",\n",
    "        TIME_BINS,\n",
    "        \"Cox-PH\"\n",
    ")"
   ]
  },
  {
   "cell_type": "code",
   "execution_count": 7,
   "metadata": {},
   "outputs": [],
   "source": [
    "bench_lifelines.train()"
   ]
  },
  {
   "cell_type": "code",
   "execution_count": 8,
   "metadata": {},
   "outputs": [
    {
     "data": {
      "text/plain": [
       "{'model': 'Cox-PH',\n",
       " 'c-index': 0.7868823131406573,\n",
       " 'ibs': 0.13529809371549895,\n",
       " 'dcal_pval': 4.498777173708728e-43,\n",
       " 'dcal_max_dev': 0.054902674947442935,\n",
       " 'training_time': 2.267102003097534,\n",
       " 'inference_time': 0.020849943161010742}"
      ]
     },
     "execution_count": 8,
     "metadata": {},
     "output_type": "execute_result"
    }
   ],
   "source": [
    "cox_lifelines_results = bench_lifelines.test()\n",
    "cox_lifelines_results"
   ]
  },
  {
   "cell_type": "code",
   "execution_count": 9,
   "metadata": {},
   "outputs": [],
   "source": [
    "results = results.append(cox_lifelines_results, ignore_index=True)"
   ]
  },
  {
   "cell_type": "code",
   "execution_count": 10,
   "metadata": {},
   "outputs": [],
   "source": [
    "bench_lifelines = BenchmarkLifelines(lifelines.WeibullAFTFitter(),\n",
    "        df_train.assign(duration = np.where(df_train.duration == 0, 1, df_train.duration)),\n",
    "        df_valid,\n",
    "        df_test,\n",
    "        \"event\",\n",
    "        \"duration\",\n",
    "        TIME_BINS,\n",
    "        \"Weibull AFT\"\n",
    ")"
   ]
  },
  {
   "cell_type": "code",
   "execution_count": 11,
   "metadata": {
    "tags": []
   },
   "outputs": [
    {
     "data": {
      "text/plain": [
       "{'model': 'Weibull AFT',\n",
       " 'c-index': 0.7868933380115156,\n",
       " 'ibs': 0.13602422693625488,\n",
       " 'dcal_pval': 2.8809253301697514e-43,\n",
       " 'dcal_max_dev': 0.056672576269850755,\n",
       " 'training_time': 0.32565784454345703,\n",
       " 'inference_time': 0.009634017944335938}"
      ]
     },
     "execution_count": 11,
     "metadata": {},
     "output_type": "execute_result"
    }
   ],
   "source": [
    "bench_lifelines.train()\n",
    "weibull_aft_results = bench_lifelines.test()\n",
    "weibull_aft_results"
   ]
  },
  {
   "cell_type": "code",
   "execution_count": 12,
   "metadata": {},
   "outputs": [],
   "source": [
    "results = results.append(weibull_aft_results, ignore_index=True)"
   ]
  },
  {
   "cell_type": "markdown",
   "metadata": {},
   "source": [
    "## XGBoost"
   ]
  },
  {
   "cell_type": "code",
   "execution_count": 13,
   "metadata": {},
   "outputs": [],
   "source": [
    "bench_xgboost = BenchmarkXGBoost(xgb,\n",
    "        df_train,\n",
    "        df_valid,\n",
    "        df_test,\n",
    "        \"event\",\n",
    "        \"duration\",\n",
    "        TIME_BINS,\n",
    "        \"XGB - AFT\",\n",
    "        \"survival:aft\",\n",
    ")"
   ]
  },
  {
   "cell_type": "code",
   "execution_count": 14,
   "metadata": {
    "tags": []
   },
   "outputs": [
    {
     "data": {
      "text/plain": [
       "{'model': 'XGB - AFT',\n",
       " 'c-index': 0.8234768714689867,\n",
       " 'ibs': nan,\n",
       " 'dcal_pval': nan,\n",
       " 'dcal_max_dev': nan,\n",
       " 'training_time': 0.242509126663208,\n",
       " 'inference_time': 0.0011980533599853516}"
      ]
     },
     "execution_count": 14,
     "metadata": {},
     "output_type": "execute_result"
    }
   ],
   "source": [
    "bench_xgboost.train()\n",
    "xgboost_aft_results = bench_xgboost.test()\n",
    "xgboost_aft_results"
   ]
  },
  {
   "cell_type": "code",
   "execution_count": 15,
   "metadata": {},
   "outputs": [],
   "source": [
    "results = results.append(xgboost_aft_results, ignore_index=True)"
   ]
  },
  {
   "cell_type": "code",
   "execution_count": 16,
   "metadata": {},
   "outputs": [
    {
     "data": {
      "text/plain": [
       "{'model': 'XGB - Cox',\n",
       " 'c-index': 0.8235333028955971,\n",
       " 'ibs': nan,\n",
       " 'dcal_pval': nan,\n",
       " 'dcal_max_dev': nan,\n",
       " 'training_time': 0.37476611137390137,\n",
       " 'inference_time': 0.001577138900756836}"
      ]
     },
     "execution_count": 16,
     "metadata": {},
     "output_type": "execute_result"
    }
   ],
   "source": [
    "bench_xgboost = BenchmarkXGBoost(xgb,\n",
    "        df_train,\n",
    "        df_valid,\n",
    "        df_test,\n",
    "        \"event\",\n",
    "        \"duration\",\n",
    "        TIME_BINS,\n",
    "        \"XGB - Cox\",\n",
    "        \"survival:cox\",\n",
    ")\n",
    "bench_xgboost.train()\n",
    "xgboost_cox_results = bench_xgboost.test()\n",
    "xgboost_cox_results"
   ]
  },
  {
   "cell_type": "code",
   "execution_count": 17,
   "metadata": {},
   "outputs": [],
   "source": [
    "results = results.append(xgboost_cox_results, ignore_index=True)"
   ]
  },
  {
   "cell_type": "markdown",
   "metadata": {},
   "source": [
    "## XGB SE"
   ]
  },
  {
   "cell_type": "code",
   "execution_count": 18,
   "metadata": {},
   "outputs": [
    {
     "data": {
      "text/plain": [
       "{'model': 'XGBSE - Debiased BCE',\n",
       " 'c-index': 0.8242329843904878,\n",
       " 'ibs': 0.10829539841030063,\n",
       " 'dcal_pval': 2.3686030061958938e-135,\n",
       " 'dcal_max_dev': 0.0683270751610485,\n",
       " 'training_time': 4.561779975891113,\n",
       " 'inference_time': 0.2850668430328369}"
      ]
     },
     "execution_count": 18,
     "metadata": {},
     "output_type": "execute_result"
    }
   ],
   "source": [
    "bench_xgboost_embedding = BenchmarkXGBSE(XGBSEDebiasedBCE(),\n",
    "        df_train,\n",
    "        df_valid,\n",
    "        df_test,\n",
    "        \"event\",\n",
    "        \"duration\",\n",
    "        TIME_BINS,\n",
    "        \"XGBSE - Debiased BCE\",\n",
    "        \"survival:aft\",\n",
    ")\n",
    "bench_xgboost_embedding.train()\n",
    "xgboost_bce_results = bench_xgboost_embedding.test()\n",
    "xgboost_bce_results"
   ]
  },
  {
   "cell_type": "code",
   "execution_count": 19,
   "metadata": {},
   "outputs": [],
   "source": [
    "results = results.append(xgboost_bce_results, ignore_index=True)"
   ]
  },
  {
   "cell_type": "code",
   "execution_count": 20,
   "metadata": {},
   "outputs": [
    {
     "data": {
      "text/plain": [
       "{'model': 'XGBSE - Kaplan Neighbors',\n",
       " 'c-index': 0.8243235133558354,\n",
       " 'ibs': 0.09968222364315912,\n",
       " 'dcal_pval': 6.1562943589818576e-34,\n",
       " 'dcal_max_dev': 0.037758403022887965,\n",
       " 'training_time': 1.5040209293365479,\n",
       " 'inference_time': 15.661872863769531}"
      ]
     },
     "execution_count": 20,
     "metadata": {},
     "output_type": "execute_result"
    }
   ],
   "source": [
    "bench_xgboost_embedding = BenchmarkXGBSE(XGBSEKaplanNeighbors(),\n",
    "        df_train,\n",
    "        df_valid,\n",
    "        df_test,\n",
    "        \"event\",\n",
    "        \"duration\",\n",
    "        TIME_BINS,\n",
    "        \"XGBSE - Kaplan Neighbors\",\n",
    "        \"survival:aft\",\n",
    ")\n",
    "bench_xgboost_embedding.train()\n",
    "xgboost_kn_results = bench_xgboost_embedding.test()\n",
    "xgboost_kn_results"
   ]
  },
  {
   "cell_type": "code",
   "execution_count": 21,
   "metadata": {},
   "outputs": [],
   "source": [
    "results = results.append(xgboost_kn_results, ignore_index=True)"
   ]
  },
  {
   "cell_type": "code",
   "execution_count": 22,
   "metadata": {},
   "outputs": [
    {
     "data": {
      "text/plain": [
       "{'model': 'XGBSE - Kaplan Tree',\n",
       " 'c-index': 0.82121853464918,\n",
       " 'ibs': 0.10129775993937155,\n",
       " 'dcal_pval': 6.905144620707361e-44,\n",
       " 'dcal_max_dev': 0.043777519983996954,\n",
       " 'training_time': 0.489609956741333,\n",
       " 'inference_time': 0.006279945373535156}"
      ]
     },
     "execution_count": 22,
     "metadata": {},
     "output_type": "execute_result"
    }
   ],
   "source": [
    "bench_xgboost_embedding = BenchmarkXGBSE(XGBSEKaplanTree(),\n",
    "        df_train,\n",
    "        df_valid,\n",
    "        df_test,\n",
    "        \"event\",\n",
    "        \"duration\",\n",
    "        TIME_BINS,\n",
    "        \"XGBSE - Kaplan Tree\",\n",
    "        \"survival:aft\",\n",
    ")\n",
    "bench_xgboost_embedding.train()\n",
    "xgboost_kt_results = bench_xgboost_embedding.test()\n",
    "xgboost_kt_results"
   ]
  },
  {
   "cell_type": "code",
   "execution_count": 23,
   "metadata": {
    "tags": []
   },
   "outputs": [],
   "source": [
    "results = results.append(xgboost_kt_results, ignore_index=True)"
   ]
  },
  {
   "cell_type": "code",
   "execution_count": 24,
   "metadata": {},
   "outputs": [
    {
     "data": {
      "text/plain": [
       "{'model': 'XGBSE - Bootstrap Trees',\n",
       " 'c-index': 0.8261708611753944,\n",
       " 'ibs': 0.09713889680012697,\n",
       " 'dcal_pval': 1.4238032769395418e-34,\n",
       " 'dcal_max_dev': 0.035288583245685845,\n",
       " 'training_time': 44.73573398590088,\n",
       " 'inference_time': 0.5337009429931641}"
      ]
     },
     "execution_count": 24,
     "metadata": {},
     "output_type": "execute_result"
    }
   ],
   "source": [
    "base_tree = XGBSEKaplanTree()\n",
    "\n",
    "bench_xgboost_embedding = BenchmarkXGBSE(\n",
    "    XGBSEBootstrapEstimator(base_tree, n_estimators=100),\n",
    "        df_train,\n",
    "        df_valid,\n",
    "        df_test,\n",
    "        \"event\",\n",
    "        \"duration\",\n",
    "        TIME_BINS,\n",
    "        \"XGBSE - Bootstrap Trees\",\n",
    "        \"survival:aft\",\n",
    ")\n",
    "bench_xgboost_embedding.train()\n",
    "xgboost_bootstrap_results = bench_xgboost_embedding.test()\n",
    "xgboost_bootstrap_results"
   ]
  },
  {
   "cell_type": "code",
   "execution_count": 25,
   "metadata": {},
   "outputs": [],
   "source": [
    "results = results.append(xgboost_bootstrap_results, ignore_index=True)"
   ]
  },
  {
   "cell_type": "code",
   "execution_count": 26,
   "metadata": {},
   "outputs": [
    {
     "data": {
      "text/plain": [
       "{'model': 'XGBSE - Stacked Weibull',\n",
       " 'c-index': 0.8263715251908638,\n",
       " 'ibs': 0.11344542750597256,\n",
       " 'dcal_pval': 1.2434514782345034e-79,\n",
       " 'dcal_max_dev': 0.05042037645542169,\n",
       " 'training_time': 2.2547810077667236,\n",
       " 'inference_time': 0.019007205963134766}"
      ]
     },
     "execution_count": 26,
     "metadata": {},
     "output_type": "execute_result"
    }
   ],
   "source": [
    "bench_xgboost_embedding = BenchmarkXGBSE(XGBSEStackedWeibull(),\n",
    "        df_train,\n",
    "        df_valid,\n",
    "        df_test,\n",
    "        \"event\",\n",
    "        \"duration\",\n",
    "        TIME_BINS,\n",
    "        \"XGBSE - Stacked Weibull\",\n",
    "        \"survival:aft\",\n",
    ")\n",
    "bench_xgboost_embedding.train()\n",
    "xgboost_weibull_results = bench_xgboost_embedding.test()\n",
    "xgboost_weibull_results"
   ]
  },
  {
   "cell_type": "code",
   "execution_count": 27,
   "metadata": {},
   "outputs": [],
   "source": [
    "results = results.append(xgboost_weibull_results, ignore_index=True)"
   ]
  },
  {
   "cell_type": "code",
   "execution_count": 28,
   "metadata": {},
   "outputs": [
    {
     "data": {
      "text/html": [
       "<div>\n",
       "<style scoped>\n",
       "    .dataframe tbody tr th:only-of-type {\n",
       "        vertical-align: middle;\n",
       "    }\n",
       "\n",
       "    .dataframe tbody tr th {\n",
       "        vertical-align: top;\n",
       "    }\n",
       "\n",
       "    .dataframe thead th {\n",
       "        text-align: right;\n",
       "    }\n",
       "</style>\n",
       "<table border=\"1\" class=\"dataframe\">\n",
       "  <thead>\n",
       "    <tr style=\"text-align: right;\">\n",
       "      <th></th>\n",
       "      <th>c-index</th>\n",
       "      <th>dcal_max_dev</th>\n",
       "      <th>dcal_pval</th>\n",
       "      <th>ibs</th>\n",
       "      <th>inference_time</th>\n",
       "      <th>model</th>\n",
       "      <th>training_time</th>\n",
       "    </tr>\n",
       "  </thead>\n",
       "  <tbody>\n",
       "    <tr>\n",
       "      <th>8</th>\n",
       "      <td>0.826</td>\n",
       "      <td>0.050</td>\n",
       "      <td>0.0</td>\n",
       "      <td>0.113</td>\n",
       "      <td>0.019</td>\n",
       "      <td>XGBSE - Stacked Weibull</td>\n",
       "      <td>2.255</td>\n",
       "    </tr>\n",
       "    <tr>\n",
       "      <th>7</th>\n",
       "      <td>0.826</td>\n",
       "      <td>0.035</td>\n",
       "      <td>0.0</td>\n",
       "      <td>0.097</td>\n",
       "      <td>0.534</td>\n",
       "      <td>XGBSE - Bootstrap Trees</td>\n",
       "      <td>44.736</td>\n",
       "    </tr>\n",
       "    <tr>\n",
       "      <th>5</th>\n",
       "      <td>0.824</td>\n",
       "      <td>0.038</td>\n",
       "      <td>0.0</td>\n",
       "      <td>0.100</td>\n",
       "      <td>15.662</td>\n",
       "      <td>XGBSE - Kaplan Neighbors</td>\n",
       "      <td>1.504</td>\n",
       "    </tr>\n",
       "    <tr>\n",
       "      <th>4</th>\n",
       "      <td>0.824</td>\n",
       "      <td>0.068</td>\n",
       "      <td>0.0</td>\n",
       "      <td>0.108</td>\n",
       "      <td>0.285</td>\n",
       "      <td>XGBSE - Debiased BCE</td>\n",
       "      <td>4.562</td>\n",
       "    </tr>\n",
       "    <tr>\n",
       "      <th>3</th>\n",
       "      <td>0.824</td>\n",
       "      <td>NaN</td>\n",
       "      <td>NaN</td>\n",
       "      <td>NaN</td>\n",
       "      <td>0.002</td>\n",
       "      <td>XGB - Cox</td>\n",
       "      <td>0.375</td>\n",
       "    </tr>\n",
       "    <tr>\n",
       "      <th>2</th>\n",
       "      <td>0.823</td>\n",
       "      <td>NaN</td>\n",
       "      <td>NaN</td>\n",
       "      <td>NaN</td>\n",
       "      <td>0.001</td>\n",
       "      <td>XGB - AFT</td>\n",
       "      <td>0.243</td>\n",
       "    </tr>\n",
       "    <tr>\n",
       "      <th>6</th>\n",
       "      <td>0.821</td>\n",
       "      <td>0.044</td>\n",
       "      <td>0.0</td>\n",
       "      <td>0.101</td>\n",
       "      <td>0.006</td>\n",
       "      <td>XGBSE - Kaplan Tree</td>\n",
       "      <td>0.490</td>\n",
       "    </tr>\n",
       "    <tr>\n",
       "      <th>1</th>\n",
       "      <td>0.787</td>\n",
       "      <td>0.057</td>\n",
       "      <td>0.0</td>\n",
       "      <td>0.136</td>\n",
       "      <td>0.010</td>\n",
       "      <td>Weibull AFT</td>\n",
       "      <td>0.326</td>\n",
       "    </tr>\n",
       "    <tr>\n",
       "      <th>0</th>\n",
       "      <td>0.787</td>\n",
       "      <td>0.055</td>\n",
       "      <td>0.0</td>\n",
       "      <td>0.135</td>\n",
       "      <td>0.021</td>\n",
       "      <td>Cox-PH</td>\n",
       "      <td>2.267</td>\n",
       "    </tr>\n",
       "  </tbody>\n",
       "</table>\n",
       "</div>"
      ],
      "text/plain": [
       "   c-index  dcal_max_dev  dcal_pval    ibs  inference_time  \\\n",
       "8    0.826         0.050        0.0  0.113           0.019   \n",
       "7    0.826         0.035        0.0  0.097           0.534   \n",
       "5    0.824         0.038        0.0  0.100          15.662   \n",
       "4    0.824         0.068        0.0  0.108           0.285   \n",
       "3    0.824           NaN        NaN    NaN           0.002   \n",
       "2    0.823           NaN        NaN    NaN           0.001   \n",
       "6    0.821         0.044        0.0  0.101           0.006   \n",
       "1    0.787         0.057        0.0  0.136           0.010   \n",
       "0    0.787         0.055        0.0  0.135           0.021   \n",
       "\n",
       "                      model  training_time  \n",
       "8   XGBSE - Stacked Weibull          2.255  \n",
       "7   XGBSE - Bootstrap Trees         44.736  \n",
       "5  XGBSE - Kaplan Neighbors          1.504  \n",
       "4      XGBSE - Debiased BCE          4.562  \n",
       "3                 XGB - Cox          0.375  \n",
       "2                 XGB - AFT          0.243  \n",
       "6       XGBSE - Kaplan Tree          0.490  \n",
       "1               Weibull AFT          0.326  \n",
       "0                    Cox-PH          2.267  "
      ]
     },
     "execution_count": 28,
     "metadata": {},
     "output_type": "execute_result"
    }
   ],
   "source": [
    "results.sort_values(\"c-index\", ascending=False).round(3)"
   ]
  },
  {
   "cell_type": "code",
   "execution_count": 29,
   "metadata": {},
   "outputs": [
    {
     "data": {
      "text/plain": [
       "'| model                    |   c-index |   dcal_max_dev |   dcal_pval |     ibs |   inference_time |   training_time |\\n|:-------------------------|----------:|---------------:|------------:|--------:|-----------------:|----------------:|\\n| XGBSE - Stacked Weibull  |     0.826 |          0.05  |           0 |   0.113 |            0.019 |           2.255 |\\n| XGBSE - Bootstrap Trees  |     0.826 |          0.035 |           0 |   0.097 |            0.534 |          44.736 |\\n| XGBSE - Kaplan Neighbors |     0.824 |          0.038 |           0 |   0.1   |           15.662 |           1.504 |\\n| XGBSE - Debiased BCE     |     0.824 |          0.068 |           0 |   0.108 |            0.285 |           4.562 |\\n| XGB - Cox                |     0.824 |        nan     |         nan | nan     |            0.002 |           0.375 |\\n| XGB - AFT                |     0.823 |        nan     |         nan | nan     |            0.001 |           0.243 |\\n| XGBSE - Kaplan Tree      |     0.821 |          0.044 |           0 |   0.101 |            0.006 |           0.49  |\\n| Weibull AFT              |     0.787 |          0.057 |           0 |   0.136 |            0.01  |           0.326 |\\n| Cox-PH                   |     0.787 |          0.055 |           0 |   0.135 |            0.021 |           2.267 |'"
      ]
     },
     "execution_count": 29,
     "metadata": {},
     "output_type": "execute_result"
    }
   ],
   "source": [
    "results.sort_values(\"c-index\", ascending=False).round(3).set_index('model').to_markdown()"
   ]
  },
  {
   "cell_type": "code",
   "execution_count": null,
   "metadata": {},
   "outputs": [],
   "source": []
  },
  {
   "cell_type": "code",
   "execution_count": null,
   "metadata": {},
   "outputs": [],
   "source": []
  },
  {
   "cell_type": "code",
   "execution_count": null,
   "metadata": {},
   "outputs": [],
   "source": []
  },
  {
   "cell_type": "code",
   "execution_count": null,
   "metadata": {},
   "outputs": [],
   "source": []
  },
  {
   "cell_type": "code",
   "execution_count": null,
   "metadata": {},
   "outputs": [],
   "source": []
  },
  {
   "cell_type": "code",
   "execution_count": null,
   "metadata": {},
   "outputs": [],
   "source": []
  },
  {
   "cell_type": "code",
   "execution_count": null,
   "metadata": {},
   "outputs": [],
   "source": []
  },
  {
   "cell_type": "code",
   "execution_count": null,
   "metadata": {},
   "outputs": [],
   "source": []
  },
  {
   "cell_type": "code",
   "execution_count": null,
   "metadata": {},
   "outputs": [],
   "source": []
  }
 ],
 "metadata": {
  "kernelspec": {
   "display_name": "Python [conda env:xgbse]",
   "language": "python",
   "name": "conda-env-xgbse-py"
  },
  "language_info": {
   "codemirror_mode": {
    "name": "ipython",
    "version": 3
   },
   "file_extension": ".py",
   "mimetype": "text/x-python",
   "name": "python",
   "nbconvert_exporter": "python",
   "pygments_lexer": "ipython3",
   "version": "3.7.9"
  }
 },
 "nbformat": 4,
 "nbformat_minor": 4
}
