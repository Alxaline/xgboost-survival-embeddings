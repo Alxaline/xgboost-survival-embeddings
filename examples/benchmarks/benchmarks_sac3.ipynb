{
 "cells": [
  {
   "cell_type": "code",
   "execution_count": null,
   "metadata": {
    "tags": []
   },
   "outputs": [],
   "source": [
    "# autoreload\n",
    "%load_ext autoreload\n",
    "%autoreload 2"
   ]
  },
  {
   "cell_type": "code",
   "execution_count": 2,
   "metadata": {},
   "outputs": [],
   "source": [
    "import numpy as np\n",
    "import pandas as pd\n",
    "import matplotlib.pyplot as plt\n",
    "from tqdm import tqdm\n",
    "\n",
    "import lifelines\n",
    "import pycox\n",
    "import xgboost as xgb\n",
    "from sklearn.model_selection import train_test_split\n",
    "\n",
    "from xgbse import XGBSEKaplanNeighbors, XGBSEKaplanTree, XGBSEDebiasedBCE, XGBSEBootstrapEstimator, XGBSEStackedWeibull\n",
    "from xgbse.converters import convert_data_to_xgb_format, convert_to_structured, convert_y\n",
    "from xgbse.non_parametric import get_time_bins\n",
    "\n",
    "from benchmark import BenchmarkLifelines, BenchmarkXGBoost, BenchmarkXGBSE, BenchmarkPysurvival\n",
    "#from pysurvival.models.survival_forest import ConditionalSurvivalForestModel\n",
    "\n",
    "# setting seed\n",
    "np.random.seed(42)"
   ]
  },
  {
   "cell_type": "code",
   "execution_count": 3,
   "metadata": {},
   "outputs": [],
   "source": [
    "def split_train_test_valid(dataf, test_size=.2, valid_size=.01, random_state=1):\n",
    "    df_train, df_test = train_test_split(dataf, test_size=test_size, random_state=random_state)\n",
    "    df_train, df_valid = train_test_split(df_train, test_size=valid_size, random_state=random_state)\n",
    "    return df_train, df_valid,  df_test"
   ]
  },
  {
   "cell_type": "markdown",
   "metadata": {},
   "source": [
    "## Data"
   ]
  },
  {
   "cell_type": "code",
   "execution_count": 4,
   "metadata": {
    "tags": []
   },
   "outputs": [
    {
     "name": "stdout",
     "output_type": "stream",
     "text": [
      "Dataset 'sac3' not created yet. Making dataset...\n",
      "Done\n"
     ]
    }
   ],
   "source": [
    "from pycox.datasets import sac3\n",
    "sac3_df = sac3.read_df()\n",
    "sac3_df.drop([\"duration_true\", \"event_true\", \"censoring_true\"], axis=1, inplace=True)\n",
    "\n",
    "df_train, df_valid, df_test = split_train_test_valid(sac3_df)\n",
    "\n",
    "T_train = df_train.duration\n",
    "E_train = df_train.event\n",
    "TIME_BINS = time_bins = get_time_bins(T_train, E_train, size=30)"
   ]
  },
  {
   "cell_type": "markdown",
   "metadata": {},
   "source": [
    "## Model\n",
    "\n",
    "Let us fit a model and check performance."
   ]
  },
  {
   "cell_type": "code",
   "execution_count": 5,
   "metadata": {},
   "outputs": [],
   "source": [
    "results = pd.DataFrame()"
   ]
  },
  {
   "cell_type": "markdown",
   "metadata": {},
   "source": [
    "## Lifelines"
   ]
  },
  {
   "cell_type": "code",
   "execution_count": 6,
   "metadata": {},
   "outputs": [],
   "source": [
    "\n",
    "bench_lifelines = BenchmarkLifelines(lifelines.CoxPHFitter(),\n",
    "        df_train,\n",
    "        df_valid,\n",
    "        df_test,\n",
    "        \"event\",\n",
    "        \"duration\",\n",
    "        TIME_BINS,\n",
    "        \"Cox-PH\"\n",
    ")"
   ]
  },
  {
   "cell_type": "code",
   "execution_count": 7,
   "metadata": {},
   "outputs": [],
   "source": [
    "bench_lifelines.train()"
   ]
  },
  {
   "cell_type": "code",
   "execution_count": 8,
   "metadata": {},
   "outputs": [
    {
     "data": {
      "text/plain": [
       "{'model': 'Cox-PH',\n",
       " 'c-index': 0.6821608577751815,\n",
       " 'ibs': 0.16538314664366988,\n",
       " 'dcal_pval': 2.960248829034621e-63,\n",
       " 'dcal_max_dev': 0.035299304270430085,\n",
       " 'training_time': 1.839928150177002,\n",
       " 'inference_time': 0.03926515579223633}"
      ]
     },
     "execution_count": 8,
     "metadata": {},
     "output_type": "execute_result"
    }
   ],
   "source": [
    "cox_lifelines_results = bench_lifelines.test()\n",
    "cox_lifelines_results"
   ]
  },
  {
   "cell_type": "code",
   "execution_count": 9,
   "metadata": {},
   "outputs": [],
   "source": [
    "results = results.append(cox_lifelines_results, ignore_index=True)"
   ]
  },
  {
   "cell_type": "code",
   "execution_count": 10,
   "metadata": {},
   "outputs": [],
   "source": [
    "bench_lifelines = BenchmarkLifelines(lifelines.WeibullAFTFitter(),\n",
    "        df_train,\n",
    "        df_valid,\n",
    "        df_test,\n",
    "        \"event\",\n",
    "        \"duration\",\n",
    "        TIME_BINS,\n",
    "        \"Weibull AFT\"\n",
    ")"
   ]
  },
  {
   "cell_type": "code",
   "execution_count": 11,
   "metadata": {
    "tags": []
   },
   "outputs": [
    {
     "data": {
      "text/plain": [
       "{'model': 'Weibull AFT',\n",
       " 'c-index': 0.682028716612183,\n",
       " 'ibs': 0.16549935329896318,\n",
       " 'dcal_pval': 8.433756927103006e-82,\n",
       " 'dcal_max_dev': 0.03897261022924145,\n",
       " 'training_time': 2.307232141494751,\n",
       " 'inference_time': 0.04311800003051758}"
      ]
     },
     "execution_count": 11,
     "metadata": {},
     "output_type": "execute_result"
    }
   ],
   "source": [
    "bench_lifelines.train()\n",
    "weibull_aft_results = bench_lifelines.test()\n",
    "weibull_aft_results"
   ]
  },
  {
   "cell_type": "code",
   "execution_count": 12,
   "metadata": {},
   "outputs": [],
   "source": [
    "results = results.append(weibull_aft_results, ignore_index=True)"
   ]
  },
  {
   "cell_type": "markdown",
   "metadata": {},
   "source": [
    "## XGBoost"
   ]
  },
  {
   "cell_type": "code",
   "execution_count": 13,
   "metadata": {},
   "outputs": [],
   "source": [
    "bench_xgboost = BenchmarkXGBoost(xgb,\n",
    "        df_train,\n",
    "        df_valid,\n",
    "        df_test,\n",
    "        \"event\",\n",
    "        \"duration\",\n",
    "        TIME_BINS,\n",
    "        \"XGB - AFT\",\n",
    "        \"survival:aft\",\n",
    ")"
   ]
  },
  {
   "cell_type": "code",
   "execution_count": 14,
   "metadata": {
    "tags": []
   },
   "outputs": [
    {
     "data": {
      "text/plain": [
       "{'model': 'XGB - AFT',\n",
       " 'c-index': 0.6906307432431247,\n",
       " 'ibs': nan,\n",
       " 'dcal_pval': nan,\n",
       " 'dcal_max_dev': nan,\n",
       " 'training_time': 7.4134063720703125,\n",
       " 'inference_time': 0.0035758018493652344}"
      ]
     },
     "execution_count": 14,
     "metadata": {},
     "output_type": "execute_result"
    }
   ],
   "source": [
    "bench_xgboost.train()\n",
    "xgboost_aft_results = bench_xgboost.test()\n",
    "xgboost_aft_results"
   ]
  },
  {
   "cell_type": "code",
   "execution_count": 15,
   "metadata": {},
   "outputs": [],
   "source": [
    "results = results.append(xgboost_aft_results, ignore_index=True)"
   ]
  },
  {
   "cell_type": "code",
   "execution_count": 16,
   "metadata": {},
   "outputs": [
    {
     "data": {
      "text/plain": [
       "{'model': 'XGB - Cox',\n",
       " 'c-index': 0.6861246916297403,\n",
       " 'ibs': nan,\n",
       " 'dcal_pval': nan,\n",
       " 'dcal_max_dev': nan,\n",
       " 'training_time': 4.885499000549316,\n",
       " 'inference_time': 0.0024073123931884766}"
      ]
     },
     "execution_count": 16,
     "metadata": {},
     "output_type": "execute_result"
    }
   ],
   "source": [
    "bench_xgboost = BenchmarkXGBoost(xgb,\n",
    "        df_train,\n",
    "        df_valid,\n",
    "        df_test,\n",
    "        \"event\",\n",
    "        \"duration\",\n",
    "        TIME_BINS,\n",
    "        \"XGB - Cox\",\n",
    "        \"survival:cox\",\n",
    ")\n",
    "bench_xgboost.train()\n",
    "xgboost_cox_results = bench_xgboost.test()\n",
    "xgboost_cox_results"
   ]
  },
  {
   "cell_type": "code",
   "execution_count": 17,
   "metadata": {},
   "outputs": [],
   "source": [
    "results = results.append(xgboost_cox_results, ignore_index=True)"
   ]
  },
  {
   "cell_type": "markdown",
   "metadata": {},
   "source": [
    "## XGB SE"
   ]
  },
  {
   "cell_type": "code",
   "execution_count": 18,
   "metadata": {},
   "outputs": [
    {
     "data": {
      "text/plain": [
       "{'model': 'XGBSE - Debiased BCE',\n",
       " 'c-index': 0.6898556886301602,\n",
       " 'ibs': 0.16919460965331368,\n",
       " 'dcal_pval': 6.341369205743656e-120,\n",
       " 'dcal_max_dev': 0.044509411533409995,\n",
       " 'training_time': 47.81409811973572,\n",
       " 'inference_time': 1.1414539813995361}"
      ]
     },
     "execution_count": 18,
     "metadata": {},
     "output_type": "execute_result"
    }
   ],
   "source": [
    "bench_xgboost_embedding = BenchmarkXGBSE(XGBSEDebiasedBCE(),\n",
    "        df_train,\n",
    "        df_valid,\n",
    "        df_test,\n",
    "        \"event\",\n",
    "        \"duration\",\n",
    "        TIME_BINS,\n",
    "        \"XGBSE - Debiased BCE\",\n",
    "        \"survival:aft\",\n",
    ")\n",
    "bench_xgboost_embedding.train()\n",
    "xgboost_bce_results = bench_xgboost_embedding.test()\n",
    "xgboost_bce_results"
   ]
  },
  {
   "cell_type": "code",
   "execution_count": 19,
   "metadata": {},
   "outputs": [],
   "source": [
    "results = results.append(xgboost_bce_results, ignore_index=True)"
   ]
  },
  {
   "cell_type": "code",
   "execution_count": 20,
   "metadata": {},
   "outputs": [
    {
     "data": {
      "text/plain": [
       "{'model': 'XGBSE - Kaplan Neighbors',\n",
       " 'c-index': 0.6663894784009747,\n",
       " 'ibs': 0.17540358380688037,\n",
       " 'dcal_pval': 2.553451853967165e-66,\n",
       " 'dcal_max_dev': 0.03725501925052292,\n",
       " 'training_time': 36.75927400588989,\n",
       " 'inference_time': 416.381933927536}"
      ]
     },
     "execution_count": 20,
     "metadata": {},
     "output_type": "execute_result"
    }
   ],
   "source": [
    "bench_xgboost_embedding = BenchmarkXGBSE(XGBSEKaplanNeighbors(),\n",
    "        df_train,\n",
    "        df_valid,\n",
    "        df_test,\n",
    "        \"event\",\n",
    "        \"duration\",\n",
    "        TIME_BINS,\n",
    "        \"XGBSE - Kaplan Neighbors\",\n",
    "        \"survival:aft\",\n",
    ")\n",
    "bench_xgboost_embedding.train()\n",
    "xgboost_kn_results = bench_xgboost_embedding.test()\n",
    "xgboost_kn_results"
   ]
  },
  {
   "cell_type": "code",
   "execution_count": 21,
   "metadata": {},
   "outputs": [],
   "source": [
    "results = results.append(xgboost_kn_results, ignore_index=True)"
   ]
  },
  {
   "cell_type": "code",
   "execution_count": 22,
   "metadata": {},
   "outputs": [
    {
     "data": {
      "text/plain": [
       "{'model': 'XGBSE - Kaplan Tree',\n",
       " 'c-index': 0.6309520608231479,\n",
       " 'ibs': 0.1914181890695273,\n",
       " 'dcal_pval': 6.061067356778973e-56,\n",
       " 'dcal_max_dev': 0.033688866155989705,\n",
       " 'training_time': 1.477849006652832,\n",
       " 'inference_time': 0.0358281135559082}"
      ]
     },
     "execution_count": 22,
     "metadata": {},
     "output_type": "execute_result"
    }
   ],
   "source": [
    "bench_xgboost_embedding = BenchmarkXGBSE(XGBSEKaplanTree(),\n",
    "        df_train,\n",
    "        df_valid,\n",
    "        df_test,\n",
    "        \"event\",\n",
    "        \"duration\",\n",
    "        TIME_BINS,\n",
    "        \"XGBSE - Kaplan Tree\",\n",
    "        \"survival:aft\",\n",
    ")\n",
    "bench_xgboost_embedding.train()\n",
    "xgboost_kt_results = bench_xgboost_embedding.test()\n",
    "xgboost_kt_results"
   ]
  },
  {
   "cell_type": "code",
   "execution_count": 23,
   "metadata": {
    "tags": []
   },
   "outputs": [],
   "source": [
    "results = results.append(xgboost_kt_results, ignore_index=True)"
   ]
  },
  {
   "cell_type": "code",
   "execution_count": 24,
   "metadata": {},
   "outputs": [
    {
     "data": {
      "text/plain": [
       "{'model': 'XGBSE - Bootstrap Trees',\n",
       " 'c-index': 0.6769903585433326,\n",
       " 'ibs': 0.16786412434551737,\n",
       " 'dcal_pval': 1.6511792922848247e-98,\n",
       " 'dcal_max_dev': 0.043015745266438726,\n",
       " 'training_time': 164.17341589927673,\n",
       " 'inference_time': 3.1336629390716553}"
      ]
     },
     "execution_count": 24,
     "metadata": {},
     "output_type": "execute_result"
    }
   ],
   "source": [
    "base_tree = XGBSEKaplanTree()\n",
    "\n",
    "bench_xgboost_embedding = BenchmarkXGBSE(\n",
    "    XGBSEBootstrapEstimator(base_tree, n_estimators=100),\n",
    "        df_train,\n",
    "        df_valid,\n",
    "        df_test,\n",
    "        \"event\",\n",
    "        \"duration\",\n",
    "        TIME_BINS,\n",
    "        \"XGBSE - Bootstrap Trees\",\n",
    "        \"survival:aft\",\n",
    ")\n",
    "bench_xgboost_embedding.train()\n",
    "xgboost_bootstrap_results = bench_xgboost_embedding.test()\n",
    "xgboost_bootstrap_results"
   ]
  },
  {
   "cell_type": "code",
   "execution_count": 25,
   "metadata": {},
   "outputs": [],
   "source": [
    "results = results.append(xgboost_bootstrap_results, ignore_index=True)"
   ]
  },
  {
   "cell_type": "code",
   "execution_count": 26,
   "metadata": {},
   "outputs": [
    {
     "data": {
      "text/plain": [
       "{'model': 'XGBSE - Stacked Weibull',\n",
       " 'c-index': 0.6965210329780931,\n",
       " 'ibs': 0.17058402978933754,\n",
       " 'dcal_pval': 1.8884687501353905e-76,\n",
       " 'dcal_max_dev': 0.03968637740815539,\n",
       " 'training_time': 32.46857404708862,\n",
       " 'inference_time': 0.152846097946167}"
      ]
     },
     "execution_count": 26,
     "metadata": {},
     "output_type": "execute_result"
    }
   ],
   "source": [
    "bench_xgboost_embedding = BenchmarkXGBSE(XGBSEStackedWeibull(),\n",
    "        df_train,\n",
    "        df_valid,\n",
    "        df_test,\n",
    "        \"event\",\n",
    "        \"duration\",\n",
    "        TIME_BINS,\n",
    "        \"XGBSE - Stacked Weibull\",\n",
    "        \"survival:aft\",\n",
    ")\n",
    "bench_xgboost_embedding.train()\n",
    "xgboost_weibull_results = bench_xgboost_embedding.test()\n",
    "xgboost_weibull_results"
   ]
  },
  {
   "cell_type": "code",
   "execution_count": 27,
   "metadata": {},
   "outputs": [],
   "source": [
    "results = results.append(xgboost_weibull_results, ignore_index=True)"
   ]
  },
  {
   "cell_type": "code",
   "execution_count": 28,
   "metadata": {},
   "outputs": [
    {
     "data": {
      "text/html": [
       "<div>\n",
       "<style scoped>\n",
       "    .dataframe tbody tr th:only-of-type {\n",
       "        vertical-align: middle;\n",
       "    }\n",
       "\n",
       "    .dataframe tbody tr th {\n",
       "        vertical-align: top;\n",
       "    }\n",
       "\n",
       "    .dataframe thead th {\n",
       "        text-align: right;\n",
       "    }\n",
       "</style>\n",
       "<table border=\"1\" class=\"dataframe\">\n",
       "  <thead>\n",
       "    <tr style=\"text-align: right;\">\n",
       "      <th></th>\n",
       "      <th>c-index</th>\n",
       "      <th>dcal_max_dev</th>\n",
       "      <th>dcal_pval</th>\n",
       "      <th>ibs</th>\n",
       "      <th>inference_time</th>\n",
       "      <th>model</th>\n",
       "      <th>training_time</th>\n",
       "    </tr>\n",
       "  </thead>\n",
       "  <tbody>\n",
       "    <tr>\n",
       "      <th>8</th>\n",
       "      <td>0.697</td>\n",
       "      <td>0.040</td>\n",
       "      <td>0.0</td>\n",
       "      <td>0.171</td>\n",
       "      <td>0.153</td>\n",
       "      <td>XGBSE - Stacked Weibull</td>\n",
       "      <td>32.469</td>\n",
       "    </tr>\n",
       "    <tr>\n",
       "      <th>2</th>\n",
       "      <td>0.691</td>\n",
       "      <td>NaN</td>\n",
       "      <td>NaN</td>\n",
       "      <td>NaN</td>\n",
       "      <td>0.004</td>\n",
       "      <td>XGB - AFT</td>\n",
       "      <td>7.413</td>\n",
       "    </tr>\n",
       "    <tr>\n",
       "      <th>4</th>\n",
       "      <td>0.690</td>\n",
       "      <td>0.045</td>\n",
       "      <td>0.0</td>\n",
       "      <td>0.169</td>\n",
       "      <td>1.141</td>\n",
       "      <td>XGBSE - Debiased BCE</td>\n",
       "      <td>47.814</td>\n",
       "    </tr>\n",
       "    <tr>\n",
       "      <th>3</th>\n",
       "      <td>0.686</td>\n",
       "      <td>NaN</td>\n",
       "      <td>NaN</td>\n",
       "      <td>NaN</td>\n",
       "      <td>0.002</td>\n",
       "      <td>XGB - Cox</td>\n",
       "      <td>4.885</td>\n",
       "    </tr>\n",
       "    <tr>\n",
       "      <th>0</th>\n",
       "      <td>0.682</td>\n",
       "      <td>0.035</td>\n",
       "      <td>0.0</td>\n",
       "      <td>0.165</td>\n",
       "      <td>0.039</td>\n",
       "      <td>Cox-PH</td>\n",
       "      <td>1.840</td>\n",
       "    </tr>\n",
       "    <tr>\n",
       "      <th>1</th>\n",
       "      <td>0.682</td>\n",
       "      <td>0.039</td>\n",
       "      <td>0.0</td>\n",
       "      <td>0.165</td>\n",
       "      <td>0.043</td>\n",
       "      <td>Weibull AFT</td>\n",
       "      <td>2.307</td>\n",
       "    </tr>\n",
       "    <tr>\n",
       "      <th>7</th>\n",
       "      <td>0.677</td>\n",
       "      <td>0.043</td>\n",
       "      <td>0.0</td>\n",
       "      <td>0.168</td>\n",
       "      <td>3.134</td>\n",
       "      <td>XGBSE - Bootstrap Trees</td>\n",
       "      <td>164.173</td>\n",
       "    </tr>\n",
       "    <tr>\n",
       "      <th>5</th>\n",
       "      <td>0.666</td>\n",
       "      <td>0.037</td>\n",
       "      <td>0.0</td>\n",
       "      <td>0.175</td>\n",
       "      <td>416.382</td>\n",
       "      <td>XGBSE - Kaplan Neighbors</td>\n",
       "      <td>36.759</td>\n",
       "    </tr>\n",
       "    <tr>\n",
       "      <th>6</th>\n",
       "      <td>0.631</td>\n",
       "      <td>0.034</td>\n",
       "      <td>0.0</td>\n",
       "      <td>0.191</td>\n",
       "      <td>0.036</td>\n",
       "      <td>XGBSE - Kaplan Tree</td>\n",
       "      <td>1.478</td>\n",
       "    </tr>\n",
       "  </tbody>\n",
       "</table>\n",
       "</div>"
      ],
      "text/plain": [
       "   c-index  dcal_max_dev  dcal_pval    ibs  inference_time  \\\n",
       "8    0.697         0.040        0.0  0.171           0.153   \n",
       "2    0.691           NaN        NaN    NaN           0.004   \n",
       "4    0.690         0.045        0.0  0.169           1.141   \n",
       "3    0.686           NaN        NaN    NaN           0.002   \n",
       "0    0.682         0.035        0.0  0.165           0.039   \n",
       "1    0.682         0.039        0.0  0.165           0.043   \n",
       "7    0.677         0.043        0.0  0.168           3.134   \n",
       "5    0.666         0.037        0.0  0.175         416.382   \n",
       "6    0.631         0.034        0.0  0.191           0.036   \n",
       "\n",
       "                      model  training_time  \n",
       "8   XGBSE - Stacked Weibull         32.469  \n",
       "2                 XGB - AFT          7.413  \n",
       "4      XGBSE - Debiased BCE         47.814  \n",
       "3                 XGB - Cox          4.885  \n",
       "0                    Cox-PH          1.840  \n",
       "1               Weibull AFT          2.307  \n",
       "7   XGBSE - Bootstrap Trees        164.173  \n",
       "5  XGBSE - Kaplan Neighbors         36.759  \n",
       "6       XGBSE - Kaplan Tree          1.478  "
      ]
     },
     "execution_count": 28,
     "metadata": {},
     "output_type": "execute_result"
    }
   ],
   "source": [
    "results.sort_values(\"c-index\", ascending=False).round(3)"
   ]
  },
  {
   "cell_type": "code",
   "execution_count": 29,
   "metadata": {},
   "outputs": [
    {
     "data": {
      "text/plain": [
       "'| model                    |   c-index |   dcal_max_dev |   dcal_pval |     ibs |   inference_time |   training_time |\\n|:-------------------------|----------:|---------------:|------------:|--------:|-----------------:|----------------:|\\n| XGBSE - Stacked Weibull  |     0.697 |          0.04  |           0 |   0.171 |            0.153 |          32.469 |\\n| XGB - AFT                |     0.691 |        nan     |         nan | nan     |            0.004 |           7.413 |\\n| XGBSE - Debiased BCE     |     0.69  |          0.045 |           0 |   0.169 |            1.141 |          47.814 |\\n| XGB - Cox                |     0.686 |        nan     |         nan | nan     |            0.002 |           4.885 |\\n| Cox-PH                   |     0.682 |          0.035 |           0 |   0.165 |            0.039 |           1.84  |\\n| Weibull AFT              |     0.682 |          0.039 |           0 |   0.165 |            0.043 |           2.307 |\\n| XGBSE - Bootstrap Trees  |     0.677 |          0.043 |           0 |   0.168 |            3.134 |         164.173 |\\n| XGBSE - Kaplan Neighbors |     0.666 |          0.037 |           0 |   0.175 |          416.382 |          36.759 |\\n| XGBSE - Kaplan Tree      |     0.631 |          0.034 |           0 |   0.191 |            0.036 |           1.478 |'"
      ]
     },
     "execution_count": 29,
     "metadata": {},
     "output_type": "execute_result"
    }
   ],
   "source": [
    "results.sort_values(\"c-index\", ascending=False).round(3).set_index('model').to_markdown()"
   ]
  },
  {
   "cell_type": "code",
   "execution_count": null,
   "metadata": {},
   "outputs": [],
   "source": []
  },
  {
   "cell_type": "code",
   "execution_count": null,
   "metadata": {},
   "outputs": [],
   "source": []
  },
  {
   "cell_type": "code",
   "execution_count": null,
   "metadata": {},
   "outputs": [],
   "source": []
  },
  {
   "cell_type": "code",
   "execution_count": null,
   "metadata": {},
   "outputs": [],
   "source": []
  },
  {
   "cell_type": "code",
   "execution_count": null,
   "metadata": {},
   "outputs": [],
   "source": []
  },
  {
   "cell_type": "code",
   "execution_count": null,
   "metadata": {},
   "outputs": [],
   "source": []
  },
  {
   "cell_type": "code",
   "execution_count": null,
   "metadata": {},
   "outputs": [],
   "source": []
  },
  {
   "cell_type": "code",
   "execution_count": null,
   "metadata": {},
   "outputs": [],
   "source": []
  },
  {
   "cell_type": "code",
   "execution_count": null,
   "metadata": {},
   "outputs": [],
   "source": []
  },
  {
   "cell_type": "code",
   "execution_count": null,
   "metadata": {},
   "outputs": [],
   "source": []
  },
  {
   "cell_type": "code",
   "execution_count": null,
   "metadata": {},
   "outputs": [],
   "source": []
  }
 ],
 "metadata": {
  "kernelspec": {
   "display_name": "Python [conda env:xgbse]",
   "language": "python",
   "name": "conda-env-xgbse-py"
  },
  "language_info": {
   "codemirror_mode": {
    "name": "ipython",
    "version": 3
   },
   "file_extension": ".py",
   "mimetype": "text/x-python",
   "name": "python",
   "nbconvert_exporter": "python",
   "pygments_lexer": "ipython3",
   "version": "3.7.9"
  }
 },
 "nbformat": 4,
 "nbformat_minor": 4
}
