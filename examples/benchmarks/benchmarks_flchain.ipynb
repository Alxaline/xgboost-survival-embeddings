{
 "cells": [
  {
   "cell_type": "code",
   "execution_count": 1,
   "metadata": {},
   "outputs": [],
   "source": [
    "import numpy as np\n",
    "import pandas as pd\n",
    "import matplotlib.pyplot as plt\n",
    "from tqdm import tqdm\n",
    "\n",
    "import lifelines\n",
    "import pycox\n",
    "import xgboost as xgb\n",
    "from sklearn.model_selection import train_test_split\n",
    "\n",
    "from xgbse import XGBSEKaplanNeighbors, XGBSEKaplanTree, XGBSEDebiasedBCE, XGBSEBootstrapEstimator, XGBSEStackedWeibull\n",
    "from xgbse.converters import convert_data_to_xgb_format, convert_to_structured, convert_y\n",
    "from xgbse.non_parametric import get_time_bins\n",
    "\n",
    "from benchmark import BenchmarkLifelines, BenchmarkXGBoost, BenchmarkXGBSE, BenchmarkPysurvival\n",
    "#from pysurvival.models.survival_forest import ConditionalSurvivalForestModel\n",
    "\n",
    "# setting seed\n",
    "np.random.seed(42)"
   ]
  },
  {
   "cell_type": "code",
   "execution_count": 2,
   "metadata": {},
   "outputs": [],
   "source": [
    "def split_train_test_valid(dataf, test_size=.2, valid_size=.01, random_state=1):\n",
    "    df_train, df_test = train_test_split(dataf, test_size=test_size, random_state=random_state)\n",
    "    df_train, df_valid = train_test_split(df_train, test_size=valid_size, random_state=random_state)\n",
    "    return df_train, df_valid,  df_test"
   ]
  },
  {
   "cell_type": "markdown",
   "metadata": {},
   "source": [
    "## Data"
   ]
  },
  {
   "cell_type": "code",
   "execution_count": 3,
   "metadata": {
    "tags": []
   },
   "outputs": [
    {
     "name": "stdout",
     "output_type": "stream",
     "text": [
      "Dataset 'flchain' not locally available. Downloading...\n",
      "Done\n"
     ]
    }
   ],
   "source": [
    "from pycox.datasets import flchain\n",
    "df = flchain.read_df()\n",
    "df = df.rename(columns={'death':'event', 'futime':'duration'})\n",
    "df = df.astype(float)\n",
    "\n",
    "df_train, df_valid, df_test = split_train_test_valid(df)\n",
    "\n",
    "T_train = df_train.duration\n",
    "E_train = df_train.event\n",
    "TIME_BINS = time_bins = get_time_bins(T_train, E_train, size=30)"
   ]
  },
  {
   "cell_type": "markdown",
   "metadata": {},
   "source": [
    "## Model\n",
    "\n",
    "Let us fit a model and check performance."
   ]
  },
  {
   "cell_type": "code",
   "execution_count": 4,
   "metadata": {},
   "outputs": [],
   "source": [
    "results = pd.DataFrame()"
   ]
  },
  {
   "cell_type": "markdown",
   "metadata": {},
   "source": [
    "## Lifelines"
   ]
  },
  {
   "cell_type": "code",
   "execution_count": 5,
   "metadata": {},
   "outputs": [],
   "source": [
    "bench_lifelines = BenchmarkLifelines(lifelines.CoxPHFitter(),\n",
    "        df_train,\n",
    "        df_valid,\n",
    "        df_test,\n",
    "        \"event\",\n",
    "        \"duration\",\n",
    "        TIME_BINS,\n",
    "        \"Cox-PH\"\n",
    ")"
   ]
  },
  {
   "cell_type": "code",
   "execution_count": 6,
   "metadata": {},
   "outputs": [],
   "source": [
    "bench_lifelines.train()"
   ]
  },
  {
   "cell_type": "code",
   "execution_count": 7,
   "metadata": {},
   "outputs": [
    {
     "data": {
      "text/plain": [
       "{'model': 'Cox-PH',\n",
       " 'c-index': 0.7883798521392772,\n",
       " 'ibs': 0.0985487804655452,\n",
       " 'dcal_pval': 0.9711460792177572,\n",
       " 'dcal_max_dev': 0.0113195501393272,\n",
       " 'training_time': 0.9423878192901611,\n",
       " 'inference_time': 0.004564046859741211}"
      ]
     },
     "execution_count": 7,
     "metadata": {},
     "output_type": "execute_result"
    }
   ],
   "source": [
    "cox_lifelines_results = bench_lifelines.test()\n",
    "cox_lifelines_results"
   ]
  },
  {
   "cell_type": "code",
   "execution_count": 8,
   "metadata": {},
   "outputs": [],
   "source": [
    "results = results.append(cox_lifelines_results, ignore_index=True)"
   ]
  },
  {
   "cell_type": "code",
   "execution_count": 9,
   "metadata": {},
   "outputs": [],
   "source": [
    "bench_lifelines = BenchmarkLifelines(lifelines.WeibullAFTFitter(),\n",
    "        df_train.assign(duration = np.where(df_train.duration == 0, 1, df_train.duration)),\n",
    "        df_valid,\n",
    "        df_test,\n",
    "        \"event\",\n",
    "        \"duration\",\n",
    "        TIME_BINS,\n",
    "        \"Weibull AFT\"\n",
    ")"
   ]
  },
  {
   "cell_type": "code",
   "execution_count": 10,
   "metadata": {
    "tags": []
   },
   "outputs": [
    {
     "data": {
      "text/plain": [
       "{'model': 'Weibull AFT',\n",
       " 'c-index': 0.788764446796106,\n",
       " 'ibs': 0.09899526138319895,\n",
       " 'dcal_pval': 0.8485679576993114,\n",
       " 'dcal_max_dev': 0.013089751262202395,\n",
       " 'training_time': 0.5366322994232178,\n",
       " 'inference_time': 0.005728960037231445}"
      ]
     },
     "execution_count": 10,
     "metadata": {},
     "output_type": "execute_result"
    }
   ],
   "source": [
    "bench_lifelines.train()\n",
    "weibull_aft_results = bench_lifelines.test()\n",
    "weibull_aft_results"
   ]
  },
  {
   "cell_type": "code",
   "execution_count": 11,
   "metadata": {},
   "outputs": [],
   "source": [
    "results = results.append(weibull_aft_results, ignore_index=True)"
   ]
  },
  {
   "cell_type": "markdown",
   "metadata": {},
   "source": [
    "## XGBoost"
   ]
  },
  {
   "cell_type": "code",
   "execution_count": 12,
   "metadata": {},
   "outputs": [],
   "source": [
    "bench_xgboost = BenchmarkXGBoost(xgb,\n",
    "        df_train,\n",
    "        df_valid,\n",
    "        df_test,\n",
    "        \"event\",\n",
    "        \"duration\",\n",
    "        TIME_BINS,\n",
    "        \"XGB - AFT\",\n",
    "        \"survival:aft\",\n",
    ")"
   ]
  },
  {
   "cell_type": "code",
   "execution_count": 13,
   "metadata": {
    "tags": []
   },
   "outputs": [
    {
     "data": {
      "text/plain": [
       "{'model': 'XGB - AFT',\n",
       " 'c-index': 0.771647534919725,\n",
       " 'ibs': nan,\n",
       " 'dcal_pval': nan,\n",
       " 'dcal_max_dev': nan,\n",
       " 'training_time': 0.1057589054107666,\n",
       " 'inference_time': 0.0008881092071533203}"
      ]
     },
     "execution_count": 13,
     "metadata": {},
     "output_type": "execute_result"
    }
   ],
   "source": [
    "bench_xgboost.train()\n",
    "xgboost_aft_results = bench_xgboost.test()\n",
    "xgboost_aft_results"
   ]
  },
  {
   "cell_type": "code",
   "execution_count": 14,
   "metadata": {},
   "outputs": [],
   "source": [
    "results = results.append(xgboost_aft_results, ignore_index=True)"
   ]
  },
  {
   "cell_type": "code",
   "execution_count": 15,
   "metadata": {},
   "outputs": [
    {
     "data": {
      "text/plain": [
       "{'model': 'XGB - Cox',\n",
       " 'c-index': 0.7748247277216809,\n",
       " 'ibs': nan,\n",
       " 'dcal_pval': nan,\n",
       " 'dcal_max_dev': nan,\n",
       " 'training_time': 0.05382394790649414,\n",
       " 'inference_time': 0.0006210803985595703}"
      ]
     },
     "execution_count": 15,
     "metadata": {},
     "output_type": "execute_result"
    }
   ],
   "source": [
    "bench_xgboost = BenchmarkXGBoost(xgb,\n",
    "        df_train,\n",
    "        df_valid,\n",
    "        df_test,\n",
    "        \"event\",\n",
    "        \"duration\",\n",
    "        TIME_BINS,\n",
    "        \"XGB - Cox\",\n",
    "        \"survival:cox\",\n",
    ")\n",
    "bench_xgboost.train()\n",
    "xgboost_cox_results = bench_xgboost.test()\n",
    "xgboost_cox_results"
   ]
  },
  {
   "cell_type": "code",
   "execution_count": 16,
   "metadata": {},
   "outputs": [],
   "source": [
    "results = results.append(xgboost_cox_results, ignore_index=True)"
   ]
  },
  {
   "cell_type": "markdown",
   "metadata": {},
   "source": [
    "## XGB SE"
   ]
  },
  {
   "cell_type": "code",
   "execution_count": 17,
   "metadata": {},
   "outputs": [
    {
     "data": {
      "text/plain": [
       "{'model': 'XGBSE - Debiased BCE',\n",
       " 'c-index': 0.7843379337713303,\n",
       " 'ibs': 0.11658577957742053,\n",
       " 'dcal_pval': 6.499812880315087e-05,\n",
       " 'dcal_max_dev': 0.03715199563137006,\n",
       " 'training_time': 3.061776876449585,\n",
       " 'inference_time': 0.23334813117980957}"
      ]
     },
     "execution_count": 17,
     "metadata": {},
     "output_type": "execute_result"
    }
   ],
   "source": [
    "bench_xgboost_embedding = BenchmarkXGBSE(XGBSEDebiasedBCE(),\n",
    "        df_train,\n",
    "        df_valid,\n",
    "        df_test,\n",
    "        \"event\",\n",
    "        \"duration\",\n",
    "        TIME_BINS,\n",
    "        \"XGBSE - Debiased BCE\",\n",
    "        \"survival:aft\",\n",
    ")\n",
    "bench_xgboost_embedding.train()\n",
    "xgboost_bce_results = bench_xgboost_embedding.test()\n",
    "xgboost_bce_results"
   ]
  },
  {
   "cell_type": "code",
   "execution_count": 18,
   "metadata": {},
   "outputs": [],
   "source": [
    "results = results.append(xgboost_bce_results, ignore_index=True)"
   ]
  },
  {
   "cell_type": "code",
   "execution_count": 19,
   "metadata": {},
   "outputs": [
    {
     "data": {
      "text/plain": [
       "{'model': 'XGBSE - Kaplan Neighbors',\n",
       " 'c-index': 0.7765872490948552,\n",
       " 'ibs': 0.10166555304551815,\n",
       " 'dcal_pval': 0.9177066941432961,\n",
       " 'dcal_max_dev': 0.012590080176862473,\n",
       " 'training_time': 0.47940921783447266,\n",
       " 'inference_time': 0.542578935623169}"
      ]
     },
     "execution_count": 19,
     "metadata": {},
     "output_type": "execute_result"
    }
   ],
   "source": [
    "bench_xgboost_embedding = BenchmarkXGBSE(XGBSEKaplanNeighbors(),\n",
    "        df_train,\n",
    "        df_valid,\n",
    "        df_test,\n",
    "        \"event\",\n",
    "        \"duration\",\n",
    "        TIME_BINS,\n",
    "        \"XGBSE - Kaplan Neighbors\",\n",
    "        \"survival:aft\",\n",
    ")\n",
    "bench_xgboost_embedding.train()\n",
    "xgboost_kn_results = bench_xgboost_embedding.test()\n",
    "xgboost_kn_results"
   ]
  },
  {
   "cell_type": "code",
   "execution_count": 20,
   "metadata": {},
   "outputs": [],
   "source": [
    "results = results.append(xgboost_kn_results, ignore_index=True)"
   ]
  },
  {
   "cell_type": "code",
   "execution_count": 21,
   "metadata": {},
   "outputs": [
    {
     "data": {
      "text/plain": [
       "{'model': 'XGBSE - Kaplan Tree',\n",
       " 'c-index': 0.767830984121385,\n",
       " 'ibs': 0.10346911400864475,\n",
       " 'dcal_pval': 0.9287914257772109,\n",
       " 'dcal_max_dev': 0.01106687028007211,\n",
       " 'training_time': 0.16666603088378906,\n",
       " 'inference_time': 0.003175973892211914}"
      ]
     },
     "execution_count": 21,
     "metadata": {},
     "output_type": "execute_result"
    }
   ],
   "source": [
    "bench_xgboost_embedding = BenchmarkXGBSE(XGBSEKaplanTree(),\n",
    "        df_train,\n",
    "        df_valid,\n",
    "        df_test,\n",
    "        \"event\",\n",
    "        \"duration\",\n",
    "        TIME_BINS,\n",
    "        \"XGBSE - Kaplan Tree\",\n",
    "        \"survival:aft\",\n",
    ")\n",
    "bench_xgboost_embedding.train()\n",
    "xgboost_kt_results = bench_xgboost_embedding.test()\n",
    "xgboost_kt_results"
   ]
  },
  {
   "cell_type": "code",
   "execution_count": 22,
   "metadata": {
    "tags": []
   },
   "outputs": [],
   "source": [
    "results = results.append(xgboost_kt_results, ignore_index=True)"
   ]
  },
  {
   "cell_type": "code",
   "execution_count": 23,
   "metadata": {},
   "outputs": [
    {
     "data": {
      "text/plain": [
       "{'model': 'XGBSE - Bootstrap Trees',\n",
       " 'c-index': 0.7814485745501223,\n",
       " 'ibs': 0.10047335035894789,\n",
       " 'dcal_pval': 0.9845121854944557,\n",
       " 'dcal_max_dev': 0.009485243521309514,\n",
       " 'training_time': 15.351151943206787,\n",
       " 'inference_time': 0.382260799407959}"
      ]
     },
     "execution_count": 23,
     "metadata": {},
     "output_type": "execute_result"
    }
   ],
   "source": [
    "base_tree = XGBSEKaplanTree()\n",
    "\n",
    "bench_xgboost_embedding = BenchmarkXGBSE(\n",
    "    XGBSEBootstrapEstimator(base_tree, n_estimators=100),\n",
    "        df_train,\n",
    "        df_valid,\n",
    "        df_test,\n",
    "        \"event\",\n",
    "        \"duration\",\n",
    "        TIME_BINS,\n",
    "        \"XGBSE - Bootstrap Trees\",\n",
    "        \"survival:aft\",\n",
    ")\n",
    "bench_xgboost_embedding.train()\n",
    "xgboost_bootstrap_results = bench_xgboost_embedding.test()\n",
    "xgboost_bootstrap_results"
   ]
  },
  {
   "cell_type": "code",
   "execution_count": 24,
   "metadata": {},
   "outputs": [],
   "source": [
    "results = results.append(xgboost_bootstrap_results, ignore_index=True)"
   ]
  },
  {
   "cell_type": "code",
   "execution_count": 25,
   "metadata": {},
   "outputs": [
    {
     "data": {
      "text/plain": [
       "{'model': 'XGBSE - Stacked Weibull',\n",
       " 'c-index': 0.7763582070540049,\n",
       " 'ibs': 0.10295151190387516,\n",
       " 'dcal_pval': 0.993686931213167,\n",
       " 'dcal_max_dev': 0.007788526213200461,\n",
       " 'training_time': 0.7186770439147949,\n",
       " 'inference_time': 0.011139869689941406}"
      ]
     },
     "execution_count": 25,
     "metadata": {},
     "output_type": "execute_result"
    }
   ],
   "source": [
    "bench_xgboost_embedding = BenchmarkXGBSE(XGBSEStackedWeibull(),\n",
    "        df_train,\n",
    "        df_valid,\n",
    "        df_test,\n",
    "        \"event\",\n",
    "        \"duration\",\n",
    "        TIME_BINS,\n",
    "        \"XGBSE - Stacked Weibull\",\n",
    "        \"survival:aft\",\n",
    ")\n",
    "bench_xgboost_embedding.train()\n",
    "xgboost_weibull_results = bench_xgboost_embedding.test()\n",
    "xgboost_weibull_results"
   ]
  },
  {
   "cell_type": "code",
   "execution_count": 26,
   "metadata": {},
   "outputs": [],
   "source": [
    "results = results.append(xgboost_weibull_results, ignore_index=True)"
   ]
  },
  {
   "cell_type": "code",
   "execution_count": 27,
   "metadata": {},
   "outputs": [
    {
     "data": {
      "text/html": [
       "<div>\n",
       "<style scoped>\n",
       "    .dataframe tbody tr th:only-of-type {\n",
       "        vertical-align: middle;\n",
       "    }\n",
       "\n",
       "    .dataframe tbody tr th {\n",
       "        vertical-align: top;\n",
       "    }\n",
       "\n",
       "    .dataframe thead th {\n",
       "        text-align: right;\n",
       "    }\n",
       "</style>\n",
       "<table border=\"1\" class=\"dataframe\">\n",
       "  <thead>\n",
       "    <tr style=\"text-align: right;\">\n",
       "      <th></th>\n",
       "      <th>c-index</th>\n",
       "      <th>dcal_max_dev</th>\n",
       "      <th>dcal_pval</th>\n",
       "      <th>ibs</th>\n",
       "      <th>inference_time</th>\n",
       "      <th>model</th>\n",
       "      <th>training_time</th>\n",
       "    </tr>\n",
       "  </thead>\n",
       "  <tbody>\n",
       "    <tr>\n",
       "      <th>1</th>\n",
       "      <td>0.789</td>\n",
       "      <td>0.013</td>\n",
       "      <td>0.849</td>\n",
       "      <td>0.099</td>\n",
       "      <td>0.006</td>\n",
       "      <td>Weibull AFT</td>\n",
       "      <td>0.537</td>\n",
       "    </tr>\n",
       "    <tr>\n",
       "      <th>0</th>\n",
       "      <td>0.788</td>\n",
       "      <td>0.011</td>\n",
       "      <td>0.971</td>\n",
       "      <td>0.099</td>\n",
       "      <td>0.005</td>\n",
       "      <td>Cox-PH</td>\n",
       "      <td>0.942</td>\n",
       "    </tr>\n",
       "    <tr>\n",
       "      <th>4</th>\n",
       "      <td>0.784</td>\n",
       "      <td>0.037</td>\n",
       "      <td>0.000</td>\n",
       "      <td>0.117</td>\n",
       "      <td>0.233</td>\n",
       "      <td>XGBSE - Debiased BCE</td>\n",
       "      <td>3.062</td>\n",
       "    </tr>\n",
       "    <tr>\n",
       "      <th>7</th>\n",
       "      <td>0.781</td>\n",
       "      <td>0.009</td>\n",
       "      <td>0.985</td>\n",
       "      <td>0.100</td>\n",
       "      <td>0.382</td>\n",
       "      <td>XGBSE - Bootstrap Trees</td>\n",
       "      <td>15.351</td>\n",
       "    </tr>\n",
       "    <tr>\n",
       "      <th>5</th>\n",
       "      <td>0.777</td>\n",
       "      <td>0.013</td>\n",
       "      <td>0.918</td>\n",
       "      <td>0.102</td>\n",
       "      <td>0.543</td>\n",
       "      <td>XGBSE - Kaplan Neighbors</td>\n",
       "      <td>0.479</td>\n",
       "    </tr>\n",
       "    <tr>\n",
       "      <th>8</th>\n",
       "      <td>0.776</td>\n",
       "      <td>0.008</td>\n",
       "      <td>0.994</td>\n",
       "      <td>0.103</td>\n",
       "      <td>0.011</td>\n",
       "      <td>XGBSE - Stacked Weibull</td>\n",
       "      <td>0.719</td>\n",
       "    </tr>\n",
       "    <tr>\n",
       "      <th>3</th>\n",
       "      <td>0.775</td>\n",
       "      <td>NaN</td>\n",
       "      <td>NaN</td>\n",
       "      <td>NaN</td>\n",
       "      <td>0.001</td>\n",
       "      <td>XGB - Cox</td>\n",
       "      <td>0.054</td>\n",
       "    </tr>\n",
       "    <tr>\n",
       "      <th>2</th>\n",
       "      <td>0.772</td>\n",
       "      <td>NaN</td>\n",
       "      <td>NaN</td>\n",
       "      <td>NaN</td>\n",
       "      <td>0.001</td>\n",
       "      <td>XGB - AFT</td>\n",
       "      <td>0.106</td>\n",
       "    </tr>\n",
       "    <tr>\n",
       "      <th>6</th>\n",
       "      <td>0.768</td>\n",
       "      <td>0.011</td>\n",
       "      <td>0.929</td>\n",
       "      <td>0.103</td>\n",
       "      <td>0.003</td>\n",
       "      <td>XGBSE - Kaplan Tree</td>\n",
       "      <td>0.167</td>\n",
       "    </tr>\n",
       "  </tbody>\n",
       "</table>\n",
       "</div>"
      ],
      "text/plain": [
       "   c-index  dcal_max_dev  dcal_pval    ibs  inference_time  \\\n",
       "1    0.789         0.013      0.849  0.099           0.006   \n",
       "0    0.788         0.011      0.971  0.099           0.005   \n",
       "4    0.784         0.037      0.000  0.117           0.233   \n",
       "7    0.781         0.009      0.985  0.100           0.382   \n",
       "5    0.777         0.013      0.918  0.102           0.543   \n",
       "8    0.776         0.008      0.994  0.103           0.011   \n",
       "3    0.775           NaN        NaN    NaN           0.001   \n",
       "2    0.772           NaN        NaN    NaN           0.001   \n",
       "6    0.768         0.011      0.929  0.103           0.003   \n",
       "\n",
       "                      model  training_time  \n",
       "1               Weibull AFT          0.537  \n",
       "0                    Cox-PH          0.942  \n",
       "4      XGBSE - Debiased BCE          3.062  \n",
       "7   XGBSE - Bootstrap Trees         15.351  \n",
       "5  XGBSE - Kaplan Neighbors          0.479  \n",
       "8   XGBSE - Stacked Weibull          0.719  \n",
       "3                 XGB - Cox          0.054  \n",
       "2                 XGB - AFT          0.106  \n",
       "6       XGBSE - Kaplan Tree          0.167  "
      ]
     },
     "execution_count": 27,
     "metadata": {},
     "output_type": "execute_result"
    }
   ],
   "source": [
    "results.sort_values(\"c-index\", ascending=False).round(3)"
   ]
  },
  {
   "cell_type": "code",
   "execution_count": 28,
   "metadata": {},
   "outputs": [
    {
     "data": {
      "text/plain": [
       "'| model                    |   c-index |   dcal_max_dev |   dcal_pval |     ibs |   inference_time |   training_time |\\n|:-------------------------|----------:|---------------:|------------:|--------:|-----------------:|----------------:|\\n| Weibull AFT              |     0.789 |          0.013 |       0.849 |   0.099 |            0.006 |           0.537 |\\n| Cox-PH                   |     0.788 |          0.011 |       0.971 |   0.099 |            0.005 |           0.942 |\\n| XGBSE - Debiased BCE     |     0.784 |          0.037 |       0     |   0.117 |            0.233 |           3.062 |\\n| XGBSE - Bootstrap Trees  |     0.781 |          0.009 |       0.985 |   0.1   |            0.382 |          15.351 |\\n| XGBSE - Kaplan Neighbors |     0.777 |          0.013 |       0.918 |   0.102 |            0.543 |           0.479 |\\n| XGBSE - Stacked Weibull  |     0.776 |          0.008 |       0.994 |   0.103 |            0.011 |           0.719 |\\n| XGB - Cox                |     0.775 |        nan     |     nan     | nan     |            0.001 |           0.054 |\\n| XGB - AFT                |     0.772 |        nan     |     nan     | nan     |            0.001 |           0.106 |\\n| XGBSE - Kaplan Tree      |     0.768 |          0.011 |       0.929 |   0.103 |            0.003 |           0.167 |'"
      ]
     },
     "execution_count": 28,
     "metadata": {},
     "output_type": "execute_result"
    }
   ],
   "source": [
    "import tabulate\n",
    "results.sort_values(\"c-index\", ascending=False).round(3).set_index('model').to_markdown()"
   ]
  },
  {
   "cell_type": "code",
   "execution_count": null,
   "metadata": {},
   "outputs": [],
   "source": []
  },
  {
   "cell_type": "code",
   "execution_count": null,
   "metadata": {},
   "outputs": [],
   "source": []
  },
  {
   "cell_type": "code",
   "execution_count": null,
   "metadata": {},
   "outputs": [],
   "source": []
  },
  {
   "cell_type": "code",
   "execution_count": null,
   "metadata": {},
   "outputs": [],
   "source": []
  },
  {
   "cell_type": "code",
   "execution_count": null,
   "metadata": {},
   "outputs": [],
   "source": []
  },
  {
   "cell_type": "code",
   "execution_count": null,
   "metadata": {},
   "outputs": [],
   "source": []
  },
  {
   "cell_type": "code",
   "execution_count": null,
   "metadata": {},
   "outputs": [],
   "source": []
  },
  {
   "cell_type": "code",
   "execution_count": null,
   "metadata": {},
   "outputs": [],
   "source": []
  },
  {
   "cell_type": "code",
   "execution_count": null,
   "metadata": {},
   "outputs": [],
   "source": []
  }
 ],
 "metadata": {
  "kernelspec": {
   "display_name": "Python [conda env:xgbse]",
   "language": "python",
   "name": "conda-env-xgbse-py"
  },
  "language_info": {
   "codemirror_mode": {
    "name": "ipython",
    "version": 3
   },
   "file_extension": ".py",
   "mimetype": "text/x-python",
   "name": "python",
   "nbconvert_exporter": "python",
   "pygments_lexer": "ipython3",
   "version": "3.7.9"
  }
 },
 "nbformat": 4,
 "nbformat_minor": 4
}
